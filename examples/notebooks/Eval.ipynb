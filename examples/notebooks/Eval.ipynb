{
 "cells": [
  {
   "cell_type": "code",
   "execution_count": null,
   "outputs": [],
   "source": [
    "import sys\n",
    "\n",
    "sys.path.append('../../')"
   ],
   "metadata": {
    "collapsed": false,
    "pycharm": {
     "name": "#%%\n"
    }
   }
  },
  {
   "cell_type": "code",
   "execution_count": null,
   "outputs": [],
   "source": [
    "\n",
    "from matplotlib import rcParams\n",
    "from tqdm import tqdm\n",
    "import torch\n",
    "from omegaconf import OmegaConf\n",
    "\n",
    "% matplotlib inline\n",
    "rcParams['figure.figsize'] = (10, 15)"
   ],
   "metadata": {
    "collapsed": false,
    "pycharm": {
     "name": "#%%\n"
    }
   }
  },
  {
   "cell_type": "code",
   "execution_count": null,
   "outputs": [],
   "source": [
    "from torchok.constructor.config_structure import ConfigParams\n",
    "from torchok.constructor import TASKS\n",
    "\n",
    "device = 'cuda' if torch.cuda.is_available() else 'cpu'\n",
    "\n",
    "# Path to yaml\n",
    "config_path = 'examples/configs/representation_arcface_sop.yaml'\n",
    "# Load yaml\n",
    "config = OmegaConf.load(config_path)\n",
    "OmegaConf.resolve(config)\n",
    "schema = OmegaConf.structured(ConfigParams)\n",
    "config = OmegaConf.merge(schema, config)\n",
    "\n",
    "# Path to checkpoint\n",
    "checkpoint = torch.load('..logs/sop_arcface/sop_arcface/2022-06-28_19-33-57/16-15810.ckpt')\n",
    "\n",
    "# Create task\n",
    "model = TASKS.get(config.task.name)(config)\n",
    "model = model.to(device)\n",
    "model.load_state_dict(checkpoint['state_dict'])\n",
    "model.eval();"
   ],
   "metadata": {
    "collapsed": false,
    "pycharm": {
     "name": "#%%\n"
    }
   }
  },
  {
   "cell_type": "code",
   "execution_count": null,
   "outputs": [],
   "source": [
    "# Create vectors on validation dataset\n",
    "dataloader = model.val_dataloader()[0]\n",
    "\n",
    "targets = []\n",
    "vectors = []\n",
    "for batch in tqdm(dataloader):\n",
    "    targets.append(batch['target'])\n",
    "    batch['image'] = batch['image'].to(device)\n",
    "    vectors.append(model.forward_with_gt(batch)['embeddings'].detach().cpu())"
   ],
   "metadata": {
    "collapsed": false,
    "pycharm": {
     "name": "#%%\n"
    }
   }
  },
  {
   "cell_type": "code",
   "execution_count": null,
   "outputs": [],
   "source": [
    "# Save traced model\n",
    "traced = torch.jit.trace(model.forward, torch.rand(4, 3, 224, 224, device=device))\n",
    "traced.save('sop_resnet50_arcface.pt')"
   ],
   "metadata": {
    "collapsed": false,
    "pycharm": {
     "name": "#%%\n"
    }
   }
  },
  {
   "cell_type": "code",
   "execution_count": null,
   "outputs": [],
   "source": [],
   "metadata": {
    "collapsed": false,
    "pycharm": {
     "name": "#%%\n"
    }
   }
  }
 ],
 "metadata": {
  "kernelspec": {
   "display_name": "Python 3.7.12 ('torchok')",
   "language": "python",
   "name": "python3"
  },
  "language_info": {
   "codemirror_mode": {
    "name": "ipython",
    "version": 3
   },
   "file_extension": ".py",
   "mimetype": "text/x-python",
   "name": "python",
   "nbconvert_exporter": "python",
   "pygments_lexer": "ipython3",
   "version": "3.7.12"
  },
  "vscode": {
   "interpreter": {
    "hash": "d98e06cf72c4d3f13daa3b7355ff9823c938a29cb0c8751ac8d58eb5a0740c19"
   }
  }
 },
 "nbformat": 4,
 "nbformat_minor": 4
}