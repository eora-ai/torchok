{
 "cells": [
  {
   "cell_type": "code",
   "execution_count": 1,
   "metadata": {},
   "outputs": [
    {
     "name": "stderr",
     "output_type": "stream",
     "text": [
      "/opt/conda/envs/torchok/lib/python3.7/site-packages/tqdm/auto.py:22: TqdmWarning: IProgress not found. Please update jupyter and ipywidgets. See https://ipywidgets.readthedocs.io/en/stable/user_install.html\n",
      "  from .autonotebook import tqdm as notebook_tqdm\n"
     ]
    }
   ],
   "source": [
    "import unittest\n",
    "import sys\n",
    "sys.path.append('../../../')\n",
    "from pathlib import Path\n",
    "\n",
    "import torch\n",
    "import onnx\n",
    "\n",
    "from src.constructor import BACKBONES\n"
   ]
  },
  {
   "cell_type": "code",
   "execution_count": 34,
   "metadata": {},
   "outputs": [],
   "source": [
    "class TestHRNet(unittest.TestCase):\n",
    "    def __init__(self, testName, backbone_name):\n",
    "        super().__init__(testName)\n",
    "        self.backbone_name = backbone_name\n",
    "\n",
    "    def test_onnx(self):\n",
    "        self._onnx_model = Path(f'{self.backbone_name}.onnx')\n",
    "        self._input = torch.ones(1, 3, 224, 224)\n",
    "        self.backbone = BACKBONES.get(self.backbone_name)(pretrained=False, in_chans=3)\n",
    "        torch.onnx.export(self.backbone,\n",
    "                          self._input,\n",
    "                          self._onnx_model,\n",
    "                          opset_version=11)\n",
    "        model = onnx.load(self._onnx_model)\n",
    "        onnx.checker.check_model(model)\n",
    "        self._onnx_model.unlink()"
   ]
  },
  {
   "cell_type": "code",
   "execution_count": 35,
   "metadata": {},
   "outputs": [
    {
     "name": "stderr",
     "output_type": "stream",
     "text": [
      "test_onnx (__main__.TestHRNet) ... "
     ]
    },
    {
     "name": "stdout",
     "output_type": "stream",
     "text": [
      "resnet18\n"
     ]
    },
    {
     "name": "stderr",
     "output_type": "stream",
     "text": [
      "ok\n",
      "\n",
      "----------------------------------------------------------------------\n",
      "Ran 1 test in 0.769s\n",
      "\n",
      "OK\n",
      "test_onnx (__main__.TestHRNet) ... "
     ]
    },
    {
     "name": "stdout",
     "output_type": "stream",
     "text": [
      "resnet34\n"
     ]
    },
    {
     "name": "stderr",
     "output_type": "stream",
     "text": [
      "ok\n",
      "\n",
      "----------------------------------------------------------------------\n",
      "Ran 1 test in 1.680s\n",
      "\n",
      "OK\n",
      "test_onnx (__main__.TestHRNet) ... "
     ]
    },
    {
     "name": "stdout",
     "output_type": "stream",
     "text": [
      "resnet50\n"
     ]
    },
    {
     "name": "stderr",
     "output_type": "stream",
     "text": [
      "ok\n",
      "\n",
      "----------------------------------------------------------------------\n",
      "Ran 1 test in 2.657s\n",
      "\n",
      "OK\n",
      "test_onnx (__main__.TestHRNet) ... "
     ]
    },
    {
     "name": "stdout",
     "output_type": "stream",
     "text": [
      "resnet101\n"
     ]
    },
    {
     "name": "stderr",
     "output_type": "stream",
     "text": [
      "ok\n",
      "\n",
      "----------------------------------------------------------------------\n",
      "Ran 1 test in 7.310s\n",
      "\n",
      "OK\n",
      "test_onnx (__main__.TestHRNet) ... "
     ]
    },
    {
     "name": "stdout",
     "output_type": "stream",
     "text": [
      "resnet152\n"
     ]
    },
    {
     "name": "stderr",
     "output_type": "stream",
     "text": [
      "ok\n",
      "\n",
      "----------------------------------------------------------------------\n",
      "Ran 1 test in 13.734s\n",
      "\n",
      "OK\n",
      "test_onnx (__main__.TestHRNet) ... "
     ]
    },
    {
     "name": "stdout",
     "output_type": "stream",
     "text": [
      "seresnet18\n"
     ]
    },
    {
     "name": "stderr",
     "output_type": "stream",
     "text": [
      "ok\n",
      "\n",
      "----------------------------------------------------------------------\n",
      "Ran 1 test in 1.162s\n",
      "\n",
      "OK\n",
      "test_onnx (__main__.TestHRNet) ... "
     ]
    },
    {
     "name": "stdout",
     "output_type": "stream",
     "text": [
      "seresnet34\n"
     ]
    },
    {
     "name": "stderr",
     "output_type": "stream",
     "text": [
      "ok\n",
      "\n",
      "----------------------------------------------------------------------\n",
      "Ran 1 test in 2.701s\n",
      "\n",
      "OK\n",
      "test_onnx (__main__.TestHRNet) ... "
     ]
    },
    {
     "name": "stdout",
     "output_type": "stream",
     "text": [
      "seresnet50\n"
     ]
    },
    {
     "name": "stderr",
     "output_type": "stream",
     "text": [
      "ok\n",
      "\n",
      "----------------------------------------------------------------------\n",
      "Ran 1 test in 3.898s\n",
      "\n",
      "OK\n",
      "test_onnx (__main__.TestHRNet) ... "
     ]
    },
    {
     "name": "stdout",
     "output_type": "stream",
     "text": [
      "seresnet101\n"
     ]
    },
    {
     "name": "stderr",
     "output_type": "stream",
     "text": [
      "ok\n",
      "\n",
      "----------------------------------------------------------------------\n",
      "Ran 1 test in 12.304s\n",
      "\n",
      "OK\n",
      "test_onnx (__main__.TestHRNet) ... "
     ]
    },
    {
     "name": "stdout",
     "output_type": "stream",
     "text": [
      "seresnet152\n"
     ]
    },
    {
     "name": "stderr",
     "output_type": "stream",
     "text": [
      "ok\n",
      "\n",
      "----------------------------------------------------------------------\n",
      "Ran 1 test in 25.122s\n",
      "\n",
      "OK\n",
      "test_onnx (__main__.TestHRNet) ... "
     ]
    },
    {
     "name": "stdout",
     "output_type": "stream",
     "text": [
      "hrnet_w18_small\n"
     ]
    },
    {
     "name": "stderr",
     "output_type": "stream",
     "text": [
      "ok\n",
      "\n",
      "----------------------------------------------------------------------\n",
      "Ran 1 test in 3.352s\n",
      "\n",
      "OK\n",
      "test_onnx (__main__.TestHRNet) ... "
     ]
    },
    {
     "name": "stdout",
     "output_type": "stream",
     "text": [
      "hrnet_w18_small_v2\n"
     ]
    },
    {
     "name": "stderr",
     "output_type": "stream",
     "text": [
      "ok\n",
      "\n",
      "----------------------------------------------------------------------\n",
      "Ran 1 test in 11.080s\n",
      "\n",
      "OK\n",
      "test_onnx (__main__.TestHRNet) ... "
     ]
    },
    {
     "name": "stdout",
     "output_type": "stream",
     "text": [
      "hrnet_w18\n"
     ]
    },
    {
     "name": "stderr",
     "output_type": "stream",
     "text": [
      "ok\n",
      "\n",
      "----------------------------------------------------------------------\n",
      "Ran 1 test in 47.330s\n",
      "\n",
      "OK\n",
      "test_onnx (__main__.TestHRNet) ... "
     ]
    },
    {
     "name": "stdout",
     "output_type": "stream",
     "text": [
      "hrnet_w30\n"
     ]
    },
    {
     "name": "stderr",
     "output_type": "stream",
     "text": [
      "ok\n",
      "\n",
      "----------------------------------------------------------------------\n",
      "Ran 1 test in 46.760s\n",
      "\n",
      "OK\n",
      "test_onnx (__main__.TestHRNet) ... "
     ]
    },
    {
     "name": "stdout",
     "output_type": "stream",
     "text": [
      "hrnet_w32\n"
     ]
    },
    {
     "name": "stderr",
     "output_type": "stream",
     "text": [
      "ok\n",
      "\n",
      "----------------------------------------------------------------------\n",
      "Ran 1 test in 46.812s\n",
      "\n",
      "OK\n",
      "test_onnx (__main__.TestHRNet) ... "
     ]
    },
    {
     "name": "stdout",
     "output_type": "stream",
     "text": [
      "hrnet_w40\n"
     ]
    },
    {
     "name": "stderr",
     "output_type": "stream",
     "text": [
      "ok\n",
      "\n",
      "----------------------------------------------------------------------\n",
      "Ran 1 test in 47.605s\n",
      "\n",
      "OK\n",
      "test_onnx (__main__.TestHRNet) ... "
     ]
    },
    {
     "name": "stdout",
     "output_type": "stream",
     "text": [
      "hrnet_w44\n"
     ]
    },
    {
     "name": "stderr",
     "output_type": "stream",
     "text": [
      "ok\n",
      "\n",
      "----------------------------------------------------------------------\n",
      "Ran 1 test in 48.001s\n",
      "\n",
      "OK\n",
      "test_onnx (__main__.TestHRNet) ... "
     ]
    },
    {
     "name": "stdout",
     "output_type": "stream",
     "text": [
      "hrnet_w48\n"
     ]
    },
    {
     "name": "stderr",
     "output_type": "stream",
     "text": [
      "ok\n",
      "\n",
      "----------------------------------------------------------------------\n",
      "Ran 1 test in 48.662s\n",
      "\n",
      "OK\n",
      "test_onnx (__main__.TestHRNet) ... "
     ]
    },
    {
     "name": "stdout",
     "output_type": "stream",
     "text": [
      "hrnet_w64\n"
     ]
    },
    {
     "name": "stderr",
     "output_type": "stream",
     "text": [
      "ok\n",
      "\n",
      "----------------------------------------------------------------------\n",
      "Ran 1 test in 50.295s\n",
      "\n",
      "OK\n"
     ]
    }
   ],
   "source": [
    "for backbone_name in BACKBONES.class_dict.keys():\n",
    "    print(backbone_name)\n",
    "    suite = unittest.TestSuite()\n",
    "    suite.addTest(TestHRNet('test_onnx', backbone_name))\n",
    "    unittest.TextTestRunner(verbosity=2).run(suite)"
   ]
  }
 ],
 "metadata": {
  "kernelspec": {
   "display_name": "Python 3.7.12 ('torchok')",
   "language": "python",
   "name": "python3"
  },
  "language_info": {
   "codemirror_mode": {
    "name": "ipython",
    "version": 3
   },
   "file_extension": ".py",
   "mimetype": "text/x-python",
   "name": "python",
   "nbconvert_exporter": "python",
   "pygments_lexer": "ipython3",
   "version": "3.7.13"
  },
  "orig_nbformat": 4,
  "vscode": {
   "interpreter": {
    "hash": "d98e06cf72c4d3f13daa3b7355ff9823c938a29cb0c8751ac8d58eb5a0740c19"
   }
  }
 },
 "nbformat": 4,
 "nbformat_minor": 2
}