{
 "cells": [
  {
   "cell_type": "code",
   "execution_count": 4,
   "metadata": {
    "pycharm": {
     "name": "#%%\n"
    }
   },
   "outputs": [],
   "source": [
    "import unittest\n",
    "import sys\n",
    "sys.path.append('../../../../')\n",
    "from pathlib import Path\n",
    "\n",
    "import torch\n",
    "import onnx\n",
    "\n",
    "from torchok.constructor import BACKBONES\n"
   ]
  },
  {
   "cell_type": "code",
   "execution_count": 75,
   "metadata": {
    "pycharm": {
     "name": "#%%\n"
    }
   },
   "outputs": [],
   "source": [
    "class TestOnnx(unittest.TestCase):\n",
    "    def __init__(self, testName, backbone_name):\n",
    "        super().__init__(testName)\n",
    "        self.backbone_name = backbone_name\n",
    "\n",
    "    def test_onnx(self):\n",
    "        self._onnx_model = Path(f'{self.backbone_name}.onnx')\n",
    "        self._input = torch.ones(1, 3, 224, 224)\n",
    "        #self._input = torch.ones(1, 3, 384, 384)\n",
    "        #self._input = torch.ones(1, 3, 256, 256)\n",
    "        self.backbone = BACKBONES.get(self.backbone_name)(pretrained=False, in_chans=3)\n",
    "        torch.onnx.export(self.backbone,\n",
    "                          self._input,\n",
    "                          self._onnx_model,\n",
    "                          opset_version=12)\n",
    "        model = onnx.load(self._onnx_model)\n",
    "        onnx.checker.check_model(model)\n",
    "        self._onnx_model.unlink()"
   ]
  },
  {
   "cell_type": "code",
   "execution_count": null,
   "metadata": {},
   "outputs": [],
   "source": [
    "for backbone_name in BACKBONES.entrypoints.keys():\n",
    "    print(backbone_name)\n",
    "    suite = unittest.TestSuite()\n",
    "    suite.addTest(TestOnnx('test_onnx', backbone_name))\n",
    "    unittest.TextTestRunner(verbosity=2).run(suite)"
   ]
  }
 ],
 "metadata": {
  "kernelspec": {
   "display_name": "Python 3.7.12 ('torchok')",
   "language": "python",
   "name": "python3"
  },
  "language_info": {
   "codemirror_mode": {
    "name": "ipython",
    "version": 3
   },
   "file_extension": ".py",
   "mimetype": "text/x-python",
   "name": "python",
   "nbconvert_exporter": "python",
   "pygments_lexer": "ipython3",
   "version": "3.8.13"
  },
  "orig_nbformat": 4,
  "vscode": {
   "interpreter": {
    "hash": "d98e06cf72c4d3f13daa3b7355ff9823c938a29cb0c8751ac8d58eb5a0740c19"
   }
  }
 },
 "nbformat": 4,
 "nbformat_minor": 2
}
