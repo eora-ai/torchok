{
 "cells": [
  {
   "cell_type": "code",
   "execution_count": 4,
   "metadata": {},
   "outputs": [],
   "source": [
    "import torch\n",
    "import torch.nn as nn\n",
    "from collections import OrderedDict\n",
    "\n",
    "from model import Model"
   ]
  },
  {
   "cell_type": "code",
   "execution_count": 9,
   "metadata": {},
   "outputs": [
    {
     "data": {
      "text/plain": [
       "OrderedDict([('layer.block1.conv.weight',\n",
       "              tensor([[[[-0.0301, -0.1757, -0.1265],\n",
       "                        [-0.1360,  0.1933,  0.0595],\n",
       "                        [-0.0242,  0.2926,  0.0147]]]])),\n",
       "             ('layer.block1.conv.bias', tensor([0.1070])),\n",
       "             ('layer.block1.linear.weight', tensor([[-0.5626]])),\n",
       "             ('layer.block1.linear.bias', tensor([0.3160])),\n",
       "             ('layer.block2.conv.weight',\n",
       "              tensor([[[[ 0.3272, -0.1817,  0.1013],\n",
       "                        [ 0.0030,  0.2125,  0.1680],\n",
       "                        [-0.1253, -0.1918, -0.2587]]]])),\n",
       "             ('layer.block2.conv.bias', tensor([-0.1150])),\n",
       "             ('layer.block2.linear.weight', tensor([[-0.1184]])),\n",
       "             ('layer.block2.linear.bias', tensor([0.9240])),\n",
       "             ('layer.linear.weight', tensor([[0.2872]])),\n",
       "             ('layer.linear.bias', tensor([-0.4113])),\n",
       "             ('linear.weight', tensor([[-0.3052]])),\n",
       "             ('linear.bias', tensor([-0.6820]))])"
      ]
     },
     "execution_count": 9,
     "metadata": {},
     "output_type": "execute_result"
    }
   ],
   "source": [
    "model = Model()\n",
    "state_dict = model.state_dict()\n",
    "torch.save(state_dict, 'base.pth')\n",
    "keys = list(state_dict.keys())\n",
    "state_dict"
   ]
  },
  {
   "cell_type": "code",
   "execution_count": 3,
   "metadata": {},
   "outputs": [
    {
     "name": "stdout",
     "output_type": "stream",
     "text": [
      "layer.block1.conv.weight\n",
      "layer.block1.conv.bias\n",
      "layer.block1.linear.weight\n",
      "layer.block1.linear.bias\n",
      "layer.block2.conv.weight\n",
      "layer.block2.conv.bias\n",
      "layer.block2.linear.weight\n",
      "layer.block2.linear.bias\n",
      "layer.linear.weight\n",
      "layer.linear.bias\n"
     ]
    }
   ],
   "source": [
    "model = Model()\n",
    "state_dict = model.state_dict()\n",
    "d = OrderedDict()\n",
    "name = 'layer'\n",
    "for k in keys:\n",
    "    if k.startswith(name):\n",
    "        print(k)\n",
    "        d[k[len(name) + 1: ]] = state_dict[k]\n",
    "\n",
    "torch.save(d, 'layer.pth')"
   ]
  },
  {
   "cell_type": "code",
   "execution_count": null,
   "metadata": {},
   "outputs": [],
   "source": []
  }
 ],
 "metadata": {
  "interpreter": {
   "hash": "d98e06cf72c4d3f13daa3b7355ff9823c938a29cb0c8751ac8d58eb5a0740c19"
  },
  "kernelspec": {
   "display_name": "Python 3.8.13 ('torchok')",
   "language": "python",
   "name": "python3"
  },
  "language_info": {
   "codemirror_mode": {
    "name": "ipython",
    "version": 3
   },
   "file_extension": ".py",
   "mimetype": "text/x-python",
   "name": "python",
   "nbconvert_exporter": "python",
   "pygments_lexer": "ipython3",
   "version": "3.8.13"
  },
  "orig_nbformat": 4
 },
 "nbformat": 4,
 "nbformat_minor": 2
}
