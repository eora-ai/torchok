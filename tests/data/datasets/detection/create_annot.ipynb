{
 "cells": [
  {
   "cell_type": "code",
   "execution_count": 3,
   "metadata": {},
   "outputs": [],
   "source": [
    "import pandas as pd\n",
    "import numpy as np\n",
    "import json"
   ]
  },
  {
   "cell_type": "code",
   "execution_count": 2,
   "metadata": {},
   "outputs": [
    {
     "data": {
      "text/html": [
       "<div>\n",
       "<style scoped>\n",
       "    .dataframe tbody tr th:only-of-type {\n",
       "        vertical-align: middle;\n",
       "    }\n",
       "\n",
       "    .dataframe tbody tr th {\n",
       "        vertical-align: top;\n",
       "    }\n",
       "\n",
       "    .dataframe thead th {\n",
       "        text-align: right;\n",
       "    }\n",
       "</style>\n",
       "<table border=\"1\" class=\"dataframe\">\n",
       "  <thead>\n",
       "    <tr style=\"text-align: right;\">\n",
       "      <th></th>\n",
       "      <th>image_path</th>\n",
       "      <th>bbox</th>\n",
       "      <th>label</th>\n",
       "    </tr>\n",
       "  </thead>\n",
       "  <tbody>\n",
       "    <tr>\n",
       "      <th>0</th>\n",
       "      <td>000000397133.jpg</td>\n",
       "      <td>[[217.62, 240.54, 38.99, 57.75], [1.0, 240.24,...</td>\n",
       "      <td>[44, 67, 1, 49, 51, 51, 79, 1, 47, 47, 51, 51,...</td>\n",
       "    </tr>\n",
       "    <tr>\n",
       "      <th>1</th>\n",
       "      <td>000000037777.jpg</td>\n",
       "      <td>[[102.49, 118.47, 7.9, 17.31], [26.5, 215.25, ...</td>\n",
       "      <td>[64, 62, 62, 67, 82, 52, 79, 81, 55, 55, 55, 5...</td>\n",
       "    </tr>\n",
       "    <tr>\n",
       "      <th>2</th>\n",
       "      <td>000000252219.jpg</td>\n",
       "      <td>[[326.28, 174.56, 71.24, 197.25], [9.79, 167.0...</td>\n",
       "      <td>[1, 1, 1, 28, 31, 47, 10]</td>\n",
       "    </tr>\n",
       "    <tr>\n",
       "      <th>3</th>\n",
       "      <td>000000087038.jpg</td>\n",
       "      <td>[[253.21, 271.07, 59.59, 60.97], [226.04, 229....</td>\n",
       "      <td>[2, 1, 1, 1, 1, 1, 1, 2, 41, 1, 1, 1, 1, 1, 1,...</td>\n",
       "    </tr>\n",
       "    <tr>\n",
       "      <th>4</th>\n",
       "      <td>000000174482.jpg</td>\n",
       "      <td>[[187.74, 5.84, 310.4, 380.49], [398.03, 80.69...</td>\n",
       "      <td>[2, 3, 3, 10, 10, 3, 3, 3, 8, 8, 8, 10]</td>\n",
       "    </tr>\n",
       "  </tbody>\n",
       "</table>\n",
       "</div>"
      ],
      "text/plain": [
       "         image_path                                               bbox  \\\n",
       "0  000000397133.jpg  [[217.62, 240.54, 38.99, 57.75], [1.0, 240.24,...   \n",
       "1  000000037777.jpg  [[102.49, 118.47, 7.9, 17.31], [26.5, 215.25, ...   \n",
       "2  000000252219.jpg  [[326.28, 174.56, 71.24, 197.25], [9.79, 167.0...   \n",
       "3  000000087038.jpg  [[253.21, 271.07, 59.59, 60.97], [226.04, 229....   \n",
       "4  000000174482.jpg  [[187.74, 5.84, 310.4, 380.49], [398.03, 80.69...   \n",
       "\n",
       "                                               label  \n",
       "0  [44, 67, 1, 49, 51, 51, 79, 1, 47, 47, 51, 51,...  \n",
       "1  [64, 62, 62, 67, 82, 52, 79, 81, 55, 55, 55, 5...  \n",
       "2                          [1, 1, 1, 28, 31, 47, 10]  \n",
       "3  [2, 1, 1, 1, 1, 1, 1, 2, 41, 1, 1, 1, 1, 1, 1,...  \n",
       "4            [2, 3, 3, 10, 10, 3, 3, 3, 8, 8, 8, 10]  "
      ]
     },
     "execution_count": 2,
     "metadata": {},
     "output_type": "execute_result"
    }
   ],
   "source": [
    "df = pd.read_csv('coco_valid.csv')\n",
    "df"
   ]
  },
  {
   "cell_type": "code",
   "execution_count": 4,
   "metadata": {},
   "outputs": [
    {
     "data": {
      "text/html": [
       "<div>\n",
       "<style scoped>\n",
       "    .dataframe tbody tr th:only-of-type {\n",
       "        vertical-align: middle;\n",
       "    }\n",
       "\n",
       "    .dataframe tbody tr th {\n",
       "        vertical-align: top;\n",
       "    }\n",
       "\n",
       "    .dataframe thead th {\n",
       "        text-align: right;\n",
       "    }\n",
       "</style>\n",
       "<table border=\"1\" class=\"dataframe\">\n",
       "  <thead>\n",
       "    <tr style=\"text-align: right;\">\n",
       "      <th></th>\n",
       "      <th>image_path</th>\n",
       "      <th>bbox</th>\n",
       "      <th>label</th>\n",
       "    </tr>\n",
       "  </thead>\n",
       "  <tbody>\n",
       "    <tr>\n",
       "      <th>0</th>\n",
       "      <td>000000397133.jpg</td>\n",
       "      <td>[[217.62, 240.54, 38.99, 57.75], [1.0, 240.24,...</td>\n",
       "      <td>[44, 67, 1, 49, 51, 51, 79, 1, 47, 47, 51, 51,...</td>\n",
       "    </tr>\n",
       "    <tr>\n",
       "      <th>1</th>\n",
       "      <td>000000037777.jpg</td>\n",
       "      <td>[[102.49, 118.47, 7.9, 17.31], [26.5, 215.25, ...</td>\n",
       "      <td>[64, 62, 62, 67, 82, 52, 79, 81, 55, 55, 55, 5...</td>\n",
       "    </tr>\n",
       "    <tr>\n",
       "      <th>2</th>\n",
       "      <td>000000252219.jpg</td>\n",
       "      <td>[[326.28, 174.56, 71.24, 197.25], [9.79, 167.0...</td>\n",
       "      <td>[1, 1, 1, 28, 31, 47, 10]</td>\n",
       "    </tr>\n",
       "    <tr>\n",
       "      <th>3</th>\n",
       "      <td>000000087038.jpg</td>\n",
       "      <td>[[253.21, 271.07, 59.59, 60.97], [226.04, 229....</td>\n",
       "      <td>[2, 1, 1, 1, 1, 1, 1, 2, 41, 1, 1, 1, 1, 1, 1,...</td>\n",
       "    </tr>\n",
       "    <tr>\n",
       "      <th>4</th>\n",
       "      <td>000000174482.jpg</td>\n",
       "      <td>[[187.74, 5.84, 310.4, 380.49], [398.03, 80.69...</td>\n",
       "      <td>[2, 3, 3, 10, 10, 3, 3, 3, 8, 8, 8, 10]</td>\n",
       "    </tr>\n",
       "  </tbody>\n",
       "</table>\n",
       "</div>"
      ],
      "text/plain": [
       "         image_path                                               bbox  \\\n",
       "0  000000397133.jpg  [[217.62, 240.54, 38.99, 57.75], [1.0, 240.24,...   \n",
       "1  000000037777.jpg  [[102.49, 118.47, 7.9, 17.31], [26.5, 215.25, ...   \n",
       "2  000000252219.jpg  [[326.28, 174.56, 71.24, 197.25], [9.79, 167.0...   \n",
       "3  000000087038.jpg  [[253.21, 271.07, 59.59, 60.97], [226.04, 229....   \n",
       "4  000000174482.jpg  [[187.74, 5.84, 310.4, 380.49], [398.03, 80.69...   \n",
       "\n",
       "                                               label  \n",
       "0  [44, 67, 1, 49, 51, 51, 79, 1, 47, 47, 51, 51,...  \n",
       "1  [64, 62, 62, 67, 82, 52, 79, 81, 55, 55, 55, 5...  \n",
       "2                          [1, 1, 1, 28, 31, 47, 10]  \n",
       "3  [2, 1, 1, 1, 1, 1, 1, 2, 41, 1, 1, 1, 1, 1, 1,...  \n",
       "4            [2, 3, 3, 10, 10, 3, 3, 3, 8, 8, 8, 10]  "
      ]
     },
     "execution_count": 4,
     "metadata": {},
     "output_type": "execute_result"
    }
   ],
   "source": [
    "df.bbox = df.bbox.apply(json.loads)\n",
    "df.label = df.label.apply(json.loads)\n",
    "\n",
    "df"
   ]
  },
  {
   "cell_type": "code",
   "execution_count": 6,
   "metadata": {},
   "outputs": [],
   "source": [
    "df.to_pickle('coco_valid.pkl')"
   ]
  },
  {
   "cell_type": "code",
   "execution_count": null,
   "metadata": {},
   "outputs": [],
   "source": []
  }
 ],
 "metadata": {
  "kernelspec": {
   "display_name": "Python 3.9.13 ('torchok')",
   "language": "python",
   "name": "python3"
  },
  "language_info": {
   "codemirror_mode": {
    "name": "ipython",
    "version": 3
   },
   "file_extension": ".py",
   "mimetype": "text/x-python",
   "name": "python",
   "nbconvert_exporter": "python",
   "pygments_lexer": "ipython3",
   "version": "3.9.13"
  },
  "orig_nbformat": 4,
  "vscode": {
   "interpreter": {
    "hash": "d98e06cf72c4d3f13daa3b7355ff9823c938a29cb0c8751ac8d58eb5a0740c19"
   }
  }
 },
 "nbformat": 4,
 "nbformat_minor": 2
}
