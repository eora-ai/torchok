{
 "cells": [
  {
   "cell_type": "code",
   "execution_count": 1,
   "metadata": {},
   "outputs": [
    {
     "name": "stderr",
     "output_type": "stream",
     "text": [
      "/opt/conda/envs/torchok/lib/python3.7/site-packages/tqdm/auto.py:22: TqdmWarning: IProgress not found. Please update jupyter and ipywidgets. See https://ipywidgets.readthedocs.io/en/stable/user_install.html\n",
      "  from .autonotebook import tqdm as notebook_tqdm\n"
     ]
    },
    {
     "data": {
      "text/plain": [
       "OrderedDict([('layer.block1.conv.weight',\n",
       "              tensor([[[[ 0.2778,  0.2816,  0.1250],\n",
       "                        [ 0.0810, -0.1960,  0.0295],\n",
       "                        [ 0.1697,  0.0113,  0.1493]]]])),\n",
       "             ('layer.block1.conv.bias', tensor([0.2000])),\n",
       "             ('layer.block1.linear.weight', tensor([[-0.2814]])),\n",
       "             ('layer.block1.linear.bias', tensor([-0.3760])),\n",
       "             ('layer.block2.conv.weight',\n",
       "              tensor([[[[-0.0931, -0.1236,  0.0424],\n",
       "                        [ 0.3312,  0.2615, -0.0700],\n",
       "                        [ 0.2973,  0.1390,  0.0210]]]])),\n",
       "             ('layer.block2.conv.bias', tensor([-0.2699])),\n",
       "             ('layer.block2.linear.weight', tensor([[-0.7374]])),\n",
       "             ('layer.block2.linear.bias', tensor([-0.1363])),\n",
       "             ('layer.linear.weight', tensor([[-0.8845]])),\n",
       "             ('layer.linear.bias', tensor([0.0317])),\n",
       "             ('linear.weight', tensor([[0.3913]])),\n",
       "             ('linear.bias', tensor([-0.5608]))])"
      ]
     },
     "execution_count": 1,
     "metadata": {},
     "output_type": "execute_result"
    }
   ],
   "source": [
    "import torch\n",
    "from collections import OrderedDict\n",
    "\n",
    "from model import Model\n",
    "\n",
    "model = Model()\n",
    "state_dict = model.state_dict()\n",
    "torch.save(state_dict, 'base.pth')\n",
    "keys = list(state_dict.keys())\n",
    "state_dict"
   ]
  },
  {
   "cell_type": "code",
   "execution_count": 2,
   "metadata": {},
   "outputs": [
    {
     "name": "stdout",
     "output_type": "stream",
     "text": [
      "layer.block1.conv.weight\n",
      "layer.block1.conv.bias\n",
      "layer.block1.linear.weight\n",
      "layer.block1.linear.bias\n",
      "layer.block2.conv.weight\n",
      "layer.block2.conv.bias\n",
      "layer.block2.linear.weight\n",
      "layer.block2.linear.bias\n",
      "layer.linear.weight\n",
      "layer.linear.bias\n"
     ]
    }
   ],
   "source": [
    "model = Model()\n",
    "state_dict = model.state_dict()\n",
    "d = OrderedDict()\n",
    "name = 'layer'\n",
    "for k in keys:\n",
    "    if k.startswith(name):\n",
    "        print(k)\n",
    "        d[k[len(name) + 1: ]] = state_dict[k]\n",
    "\n",
    "torch.save(d, 'layer.pth')"
   ]
  },
  {
   "cell_type": "code",
   "execution_count": null,
   "metadata": {},
   "outputs": [],
   "source": []
  }
 ],
 "metadata": {
  "interpreter": {
   "hash": "d98e06cf72c4d3f13daa3b7355ff9823c938a29cb0c8751ac8d58eb5a0740c19"
  },
  "kernelspec": {
   "display_name": "Python 3.8.13 ('torchok')",
   "language": "python",
   "name": "python3"
  },
  "language_info": {
   "codemirror_mode": {
    "name": "ipython",
    "version": 3
   },
   "file_extension": ".py",
   "mimetype": "text/x-python",
   "name": "python",
   "nbconvert_exporter": "python",
   "pygments_lexer": "ipython3",
   "version": "3.7.12"
  },
  "orig_nbformat": 4
 },
 "nbformat": 4,
 "nbformat_minor": 2
}
